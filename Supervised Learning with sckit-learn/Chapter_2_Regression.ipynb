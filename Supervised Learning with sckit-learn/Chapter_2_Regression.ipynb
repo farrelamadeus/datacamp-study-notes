{
 "cells": [
  {
   "cell_type": "markdown",
   "id": "03f9ce43-f7b2-4bd3-a4a8-4978976c414e",
   "metadata": {},
   "source": [
    "## Supervised Learning with scikit-learn - Part 2\n",
    "## Part 2 - Regression"
   ]
  },
  {
   "cell_type": "code",
   "execution_count": 3,
   "id": "b43a9b72-e773-4878-a6d5-584ac2fafc17",
   "metadata": {},
   "outputs": [],
   "source": [
    "import pandas as pd\n",
    "import numpy as np\n",
    "import warnings\n",
    "\n",
    "pd.set_option('display.expand_frame_repr', False)\n",
    "\n",
    "warnings.filterwarnings(\"ignore\", category=DeprecationWarning)\n",
    "warnings.filterwarnings(\"ignore\", category=FutureWarning)"
   ]
  },
  {
   "cell_type": "code",
   "execution_count": null,
   "id": "1b4efbb8-65b4-4cc6-b0f7-9736debb07bd",
   "metadata": {},
   "outputs": [],
   "source": []
  },
  {
   "cell_type": "markdown",
   "id": "8f24e96d-a566-4302-8e77-880cd72442ac",
   "metadata": {},
   "source": [
    "## Introduction to Regression\n",
    "Predicting blood glucose levels"
   ]
  },
  {
   "cell_type": "code",
   "execution_count": 27,
   "id": "9385e5d6-3f1f-4275-8c5b-05fb43715492",
   "metadata": {},
   "outputs": [
    {
     "data": {
      "text/html": [
       "<div>\n",
       "<style scoped>\n",
       "    .dataframe tbody tr th:only-of-type {\n",
       "        vertical-align: middle;\n",
       "    }\n",
       "\n",
       "    .dataframe tbody tr th {\n",
       "        vertical-align: top;\n",
       "    }\n",
       "\n",
       "    .dataframe thead th {\n",
       "        text-align: right;\n",
       "    }\n",
       "</style>\n",
       "<table border=\"1\" class=\"dataframe\">\n",
       "  <thead>\n",
       "    <tr style=\"text-align: right;\">\n",
       "      <th></th>\n",
       "      <th>Unnamed: 0</th>\n",
       "      <th>pregnancies</th>\n",
       "      <th>glucose</th>\n",
       "      <th>diastolic</th>\n",
       "      <th>triceps</th>\n",
       "      <th>insulin</th>\n",
       "      <th>bmi</th>\n",
       "      <th>dpf</th>\n",
       "      <th>age</th>\n",
       "      <th>diabetes</th>\n",
       "    </tr>\n",
       "  </thead>\n",
       "  <tbody>\n",
       "    <tr>\n",
       "      <th>0</th>\n",
       "      <td>0</td>\n",
       "      <td>6</td>\n",
       "      <td>148</td>\n",
       "      <td>72</td>\n",
       "      <td>35</td>\n",
       "      <td>0</td>\n",
       "      <td>33.6</td>\n",
       "      <td>0.627</td>\n",
       "      <td>50</td>\n",
       "      <td>1</td>\n",
       "    </tr>\n",
       "    <tr>\n",
       "      <th>1</th>\n",
       "      <td>1</td>\n",
       "      <td>1</td>\n",
       "      <td>85</td>\n",
       "      <td>66</td>\n",
       "      <td>29</td>\n",
       "      <td>0</td>\n",
       "      <td>26.6</td>\n",
       "      <td>0.351</td>\n",
       "      <td>31</td>\n",
       "      <td>0</td>\n",
       "    </tr>\n",
       "    <tr>\n",
       "      <th>2</th>\n",
       "      <td>2</td>\n",
       "      <td>8</td>\n",
       "      <td>183</td>\n",
       "      <td>64</td>\n",
       "      <td>0</td>\n",
       "      <td>0</td>\n",
       "      <td>23.3</td>\n",
       "      <td>0.672</td>\n",
       "      <td>32</td>\n",
       "      <td>1</td>\n",
       "    </tr>\n",
       "    <tr>\n",
       "      <th>3</th>\n",
       "      <td>3</td>\n",
       "      <td>1</td>\n",
       "      <td>89</td>\n",
       "      <td>66</td>\n",
       "      <td>23</td>\n",
       "      <td>94</td>\n",
       "      <td>28.1</td>\n",
       "      <td>0.167</td>\n",
       "      <td>21</td>\n",
       "      <td>0</td>\n",
       "    </tr>\n",
       "    <tr>\n",
       "      <th>4</th>\n",
       "      <td>4</td>\n",
       "      <td>0</td>\n",
       "      <td>137</td>\n",
       "      <td>40</td>\n",
       "      <td>35</td>\n",
       "      <td>168</td>\n",
       "      <td>43.1</td>\n",
       "      <td>2.288</td>\n",
       "      <td>33</td>\n",
       "      <td>1</td>\n",
       "    </tr>\n",
       "  </tbody>\n",
       "</table>\n",
       "</div>"
      ],
      "text/plain": [
       "   Unnamed: 0  pregnancies  glucose  diastolic  triceps  insulin   bmi    dpf  age  diabetes\n",
       "0           0            6      148         72       35        0  33.6  0.627   50         1\n",
       "1           1            1       85         66       29        0  26.6  0.351   31         0\n",
       "2           2            8      183         64        0        0  23.3  0.672   32         1\n",
       "3           3            1       89         66       23       94  28.1  0.167   21         0\n",
       "4           4            0      137         40       35      168  43.1  2.288   33         1"
      ]
     },
     "execution_count": 27,
     "metadata": {},
     "output_type": "execute_result"
    }
   ],
   "source": [
    "import pandas as pd\n",
    "df = pd.read_csv(\"datasets/diabetes_clean.csv\", index_col=None)\n",
    "df.head()"
   ]
  },
  {
   "cell_type": "markdown",
   "id": "0c0765df-f97a-41ac-a531-c13e80a5eaa7",
   "metadata": {},
   "source": [
    "Creating feature and targets arrays"
   ]
  },
  {
   "cell_type": "code",
   "execution_count": 31,
   "id": "37c627ab-99fc-4865-8944-fa232a0addc6",
   "metadata": {},
   "outputs": [
    {
     "name": "stdout",
     "output_type": "stream",
     "text": [
      "<class 'numpy.ndarray'> <class 'numpy.ndarray'>\n"
     ]
    }
   ],
   "source": [
    "# Clean where the glucose and bmi is '0'\n",
    "diabetes_df = df.loc[(df['glucose'] != 0) & (df['bmi'] != 0)].copy()\n",
    "\n",
    "# Create independent and dependent variables\n",
    "X = diabetes_df.drop('glucose', axis=1).values\n",
    "y = diabetes_df['glucose'].values\n",
    "print(type(X), type(y))"
   ]
  },
  {
   "cell_type": "code",
   "execution_count": 32,
   "id": "749d286c-672f-4b6b-8a8a-c8f313f374e9",
   "metadata": {},
   "outputs": [
    {
     "name": "stdout",
     "output_type": "stream",
     "text": [
      "(752,) (752,)\n",
      "(752, 1)\n"
     ]
    }
   ],
   "source": [
    "X_bmi = X[:, 5]\n",
    "print(y.shape, X_bmi.shape)\n",
    "\n",
    "X_bmi = X_bmi.reshape(-1, 1)\n",
    "print(X_bmi.shape)"
   ]
  },
  {
   "cell_type": "markdown",
   "id": "d9d95ad7-b906-465c-878a-a4001c69926b",
   "metadata": {},
   "source": [
    "Plotting glucose vs body mass index (bmi)"
   ]
  },
  {
   "cell_type": "code",
   "execution_count": 40,
   "id": "086a2118-fb63-4a44-a556-0eda318d18cd",
   "metadata": {},
   "outputs": [
    {
     "data": {
      "image/png": "[encoded data removed]",
      "text/plain": [
       "<Figure size 640x480 with 1 Axes>"
      ]
     },
     "metadata": {},
     "output_type": "display_data"
    }
   ],
   "source": [
    "import matplotlib.pyplot as plt\n",
    "plt.scatter(X_bmi, y)\n",
    "plt.ylabel(\"Blood Glucose (mg/dl)\")\n",
    "plt.xlabel(\"Body Mass Index\")\n",
    "plt.show()"
   ]
  },
  {
   "cell_type": "markdown",
   "id": "37899830-7981-4802-ba3f-bdceaa6be47f",
   "metadata": {},
   "source": [
    "Fitting a regression model\n"
   ]
  },
  {
   "cell_type": "code",
   "execution_count": 43,
   "id": "49e552f4-6724-474f-bc6a-367d37ceb016",
   "metadata": {},
   "outputs": [
    {
     "data": {
      "image/png": "[encoded data removed]",
      "text/plain": [
       "<Figure size 640x480 with 1 Axes>"
      ]
     },
     "metadata": {},
     "output_type": "display_data"
    }
   ],
   "source": [
    "from sklearn.linear_model import LinearRegression\n",
    "reg = LinearRegression()\n",
    "reg.fit(X_bmi, y)\n",
    "predictions = reg.predict(X_bmi)\n",
    "\n",
    "plt.scatter(X_bmi, y)\n",
    "plt.plot(X_bmi, predictions, color='black')\n",
    "plt.ylabel(\"Blood Glucose (mg/dl)\")\n",
    "plt.xlabel(\"Body Mass Index\")\n",
    "plt.show()"
   ]
  },
  {
   "cell_type": "markdown",
   "id": "aadd5da5-d898-4b4b-a997-81b8123c4286",
   "metadata": {},
   "source": [
    "### Exercise - Creating features"
   ]
  },
  {
   "cell_type": "markdown",
   "id": "43ec7d5d-fa34-4630-86eb-44531264279a",
   "metadata": {},
   "source": [
    "In this chapter, you will work with a dataset called sales_df, which contains information on advertising campaign expenditure across different media types, and the number of dollars generated in sales for the respective campaign. The dataset has been preloaded for you. Here are the first two rows:"
   ]
  },
  {
   "cell_type": "code",
   "execution_count": 46,
   "id": "f14e43bb-b4f5-4a68-ba0c-fbcc15f7be5c",
   "metadata": {
    "jupyter": {
     "source_hidden": true
    }
   },
   "outputs": [
    {
     "data": {
      "text/html": [
       "<div>\n",
       "<style scoped>\n",
       "    .dataframe tbody tr th:only-of-type {\n",
       "        vertical-align: middle;\n",
       "    }\n",
       "\n",
       "    .dataframe tbody tr th {\n",
       "        vertical-align: top;\n",
       "    }\n",
       "\n",
       "    .dataframe thead th {\n",
       "        text-align: right;\n",
       "    }\n",
       "</style>\n",
       "<table border=\"1\" class=\"dataframe\">\n",
       "  <thead>\n",
       "    <tr style=\"text-align: right;\">\n",
       "      <th></th>\n",
       "      <th>Unnamed: 0</th>\n",
       "      <th>tv</th>\n",
       "      <th>radio</th>\n",
       "      <th>social_media</th>\n",
       "      <th>sales</th>\n",
       "    </tr>\n",
       "  </thead>\n",
       "  <tbody>\n",
       "    <tr>\n",
       "      <th>0</th>\n",
       "      <td>0</td>\n",
       "      <td>16000.0</td>\n",
       "      <td>6566.23</td>\n",
       "      <td>2907.98</td>\n",
       "      <td>54732.76</td>\n",
       "    </tr>\n",
       "    <tr>\n",
       "      <th>1</th>\n",
       "      <td>1</td>\n",
       "      <td>13000.0</td>\n",
       "      <td>9237.76</td>\n",
       "      <td>2409.57</td>\n",
       "      <td>46677.90</td>\n",
       "    </tr>\n",
       "  </tbody>\n",
       "</table>\n",
       "</div>"
      ],
      "text/plain": [
       "   Unnamed: 0       tv    radio  social_media     sales\n",
       "0           0  16000.0  6566.23       2907.98  54732.76\n",
       "1           1  13000.0  9237.76       2409.57  46677.90"
      ]
     },
     "execution_count": 46,
     "metadata": {},
     "output_type": "execute_result"
    }
   ],
   "source": [
    "sales_df = pd.read_csv('datasets/advertising_and_sales_clean.csv')\n",
    "sales_df.head(2)"
   ]
  },
  {
   "cell_type": "markdown",
   "id": "37796dc0-a013-4ce3-b0e9-81d1fc5015af",
   "metadata": {},
   "source": [
    "You will use the advertising expenditure as features to predict sales values, initially working with the \"radio\" column. However, before you make any predictions you will need to create the feature and target arrays, reshaping them to the correct format for scikit-learn."
   ]
  },
  {
   "cell_type": "code",
   "execution_count": 47,
   "id": "27f68a96-379f-4a5d-add6-1a7be359e96a",
   "metadata": {},
   "outputs": [
    {
     "name": "stdout",
     "output_type": "stream",
     "text": [
      "(4546, 1) (4546,)\n"
     ]
    }
   ],
   "source": [
    "# Create X from the radio column's values\n",
    "X = sales_df['radio'].values\n",
    "\n",
    "# Create y from the sales column's values\n",
    "y = sales_df['sales'].values\n",
    "\n",
    "# Reshape X\n",
    "X = np.reshape(X, (4546,1))\n",
    "\n",
    "# Check the shape of the features and targets\n",
    "print(X.shape, y.shape)"
   ]
  },
  {
   "cell_type": "markdown",
   "id": "c01c6f36-715b-4904-89a0-3a52816ecb80",
   "metadata": {},
   "source": [
    "### Exercise - Building a linear regression model"
   ]
  },
  {
   "cell_type": "markdown",
   "id": "4357b39b-5c77-47b5-a3ae-4b3be0a2a956",
   "metadata": {},
   "source": [
    "Now you have created your feature and target arrays, you will train a linear regression model on all feature and target values.\n",
    "\r\n",
    "As the goal is to assess the relationship between the feature and target values there is no need to split the data into training and test setows:"
   ]
  },
  {
   "cell_type": "code",
   "execution_count": 48,
   "id": "b85de76b-96c3-4d09-bb2e-4d9db10a0d79",
   "metadata": {},
   "outputs": [
    {
     "name": "stdout",
     "output_type": "stream",
     "text": [
      "[ 95491.17119147 117829.51038393 173423.38071499 291603.11444202\n",
      " 111137.28167129]\n"
     ]
    }
   ],
   "source": [
    "# Import LinearRegression\n",
    "from sklearn.linear_model import LinearRegression\n",
    "\n",
    "# Create the model\n",
    "reg = LinearRegression()\n",
    "\n",
    "# Fit the model to the data\n",
    "reg.fit(X,y)\n",
    "\n",
    "# Make predictions\n",
    "predictions = reg.predict(X)\n",
    "\n",
    "print(predictions[:5])"
   ]
  },
  {
   "cell_type": "markdown",
   "id": "98439256-ab34-483b-941a-ae73ff906022",
   "metadata": {},
   "source": [
    "### Exercise - Visualizing a  linear regression model"
   ]
  },
  {
   "cell_type": "code",
   "execution_count": 49,
   "id": "d627c936-c80d-4621-bfb9-929d7e0d8bc4",
   "metadata": {},
   "outputs": [
    {
     "data": {
      "image/png": "[encoded data removed]",
      "text/plain": [
       "<Figure size 640x480 with 1 Axes>"
      ]
     },
     "metadata": {},
     "output_type": "display_data"
    }
   ],
   "source": [
    "# Import matplotlib.pyplot\n",
    "import matplotlib.pyplot as plt\n",
    "\n",
    "# Create scatter plot\n",
    "plt.scatter(X, y, color=\"blue\")\n",
    "\n",
    "# Create line plot\n",
    "plt.plot(X, predictions, color=\"red\")\n",
    "plt.xlabel(\"Radio Expenditure ($)\")\n",
    "plt.ylabel(\"Sales ($)\")\n",
    "\n",
    "# Display the plot\n",
    "plt.show()"
   ]
  },
  {
   "cell_type": "markdown",
   "id": "fc08a97e-dd48-4404-b539-c6d751b3eb72",
   "metadata": {},
   "source": [
    "## The Basic of Linear Regression\n",
    "Linear regression using all features"
   ]
  },
  {
   "cell_type": "code",
   "execution_count": 54,
   "id": "5706c7c3-e29b-4b74-a3c0-54ccc90c2b92",
   "metadata": {},
   "outputs": [],
   "source": [
    "from sklearn.model_selection import train_test_split\n",
    "from sklearn.linear_model import LinearRegression\n",
    "features = [\"tv\",\t\"radio\",\t\"social_media\"]\n",
    "X = sales_df[features].values\n",
    "y = sales_df['sales'].values\n",
    "\n",
    "# Split the data\n",
    "X_train, X_test, y_train, y_test = train_test_split(X, y, test_size=0.3,random_state=42)\n",
    "\n",
    "# Make linear regression model\n",
    "reg_all = LinearRegression()\n",
    "\n",
    "# Fit the data\n",
    "reg_all.fit(X_train, y_train)\n",
    "\n",
    "# Predict\n",
    "y_pred = reg_all.predict(X_test)"
   ]
  },
  {
   "cell_type": "markdown",
   "id": "588b293a-39f4-429c-9486-4b9179db2929",
   "metadata": {},
   "source": [
    "R-squared: quantifies the variance in target values explained by the features (independent variables)\n",
    "- Values range from 0 to 1\n",
    "  \n",
    "Mean squared error (MSE): is measured in target units, squared.\n",
    "\n",
    "Root mean squared error: Measure RMSE in the same units at the target variable"
   ]
  },
  {
   "cell_type": "code",
   "execution_count": 58,
   "id": "caeae44a-3497-449c-b58e-644556515a47",
   "metadata": {},
   "outputs": [
    {
     "name": "stdout",
     "output_type": "stream",
     "text": [
      "0.9990152104759368\n",
      "0.9990152104759368\n"
     ]
    }
   ],
   "source": [
    "# R-squared in scikit-learn\n",
    "print(reg_all.score(X_test, y_test))\n",
    "\n",
    "# Or use the r2_score function\n",
    "from sklearn.metrics import r2_score\n",
    "print(r2_score(y_test, y_pred))"
   ]
  },
  {
   "cell_type": "code",
   "execution_count": 59,
   "id": "736fe5ce-de32-40ca-a431-48060cb9e6ac",
   "metadata": {},
   "outputs": [
    {
     "data": {
      "text/plain": [
       "2944.4331996001015"
      ]
     },
     "execution_count": 59,
     "metadata": {},
     "output_type": "execute_result"
    }
   ],
   "source": [
    "# RMSE in scikit-learn\n",
    "from sklearn.metrics import mean_squared_error\n",
    "mean_squared_error(y_test, y_pred, squared=False)"
   ]
  },
  {
   "cell_type": "markdown",
   "id": "99586b8a-de56-4c75-b213-6ee5c0c7bcc5",
   "metadata": {},
   "source": [
    "### Exercise - Fit and predict for regression\n",
    "Now you have seen how linear regression works, your task is to create a multiple linear regression model using all of the features in the sales_df dataset, which has been preloaded for you. As a reminder, here are the first two rows\n",
    "\n",
    "You will then use this model to predict sales based on the values of the test features."
   ]
  },
  {
   "cell_type": "code",
   "execution_count": 62,
   "id": "a961555f-51fe-4310-a308-25729948ddb0",
   "metadata": {},
   "outputs": [
    {
     "name": "stdout",
     "output_type": "stream",
     "text": [
      "Predictions: [334497.27770911 124568.85781018], Actual Values: [330640.84 129596.95]\n"
     ]
    }
   ],
   "source": [
    "# Create X and y arrays\n",
    "X = sales_df.drop(\"sales\", axis=1).values\n",
    "y = sales_df[\"sales\"].values\n",
    "\n",
    "X_train, X_test, y_train, y_test = train_test_split(X, y, test_size=0.3, random_state=12)\n",
    "\n",
    "# Instantiate the model\n",
    "reg = LinearRegression()\n",
    "\n",
    "# Fit the model to the data\n",
    "reg.fit(X_train, y_train)\n",
    "\n",
    "# Make predictions\n",
    "y_pred = reg.predict(X_test)\n",
    "print(\"Predictions: {}, Actual Values: {}\".format(y_pred[:2], y_test[:2]))"
   ]
  },
  {
   "cell_type": "markdown",
   "id": "ff125e2b-343b-4b64-b7cc-64d64f90c3cd",
   "metadata": {},
   "source": [
    "### Exercise - Regression Performance\n",
    "Now you have fit a model, reg, using all features from sales_df, and made predictions of sales values, you can evaluate performance using some common regression metrics.\r\n",
    "\r\n",
    "The variables X_train, X_test, y_train, y_test, and y_pred, along with the fitted model, reg, all from the last exercise, have been preloaded for you.\r\n",
    "\r\n",
    "Your task is to find out how well the features can explain the variance in the target values, along with assessing the model's ability to make predictions on unseen data."
   ]
  },
  {
   "cell_type": "code",
   "execution_count": 63,
   "id": "582eda6f-f383-4b7e-81d1-a2cea2867cd7",
   "metadata": {},
   "outputs": [
    {
     "name": "stdout",
     "output_type": "stream",
     "text": [
      "R^2: 0.9990384167447777\n",
      "R^2: 0.9990384167447777\n",
      "RMSE: 2914.151419306545\n"
     ]
    }
   ],
   "source": [
    "# Import mean_squared_error\n",
    "from sklearn.metrics import mean_squared_error\n",
    "from sklearn.metrics import r2_score\n",
    "# Compute R-squared\n",
    "r_squared = reg.score(X_test, y_test)\n",
    "r2 = r2_score(y_test, y_pred)\n",
    "# Compute RMSE\n",
    "rmse = mean_squared_error(y_test, y_pred, squared=False)\n",
    "\n",
    "# Print the metrics\n",
    "print(\"R^2: {}\".format(r_squared))\n",
    "print(\"R^2: {}\".format(r2))\n",
    "print(\"RMSE: {}\".format(rmse))"
   ]
  },
  {
   "cell_type": "markdown",
   "id": "1349ded3-ed84-4874-8272-63e17ad2fe44",
   "metadata": {},
   "source": [
    "## Cross-validation\n",
    "The motivation\n",
    "\n",
    "Model performance is dependent on the way we split up the data\n",
    "\n",
    "Not representative of the model's ability to generalize to unseen data"
   ]
  },
  {
   "cell_type": "code",
   "execution_count": 81,
   "id": "3a3813be-1386-494a-a56f-32d5b5be1df7",
   "metadata": {},
   "outputs": [
    {
     "name": "stdout",
     "output_type": "stream",
     "text": [
      "(4546, 3)\n"
     ]
    }
   ],
   "source": [
    "# Create X and y array\n",
    "X = sales_df.set_index('Unnamed: 0').drop('sales', axis=1).values\n",
    "y = sales_df['sales'].values\n",
    "print(X.shape)\n",
    "\n",
    "# Cross-validation\n",
    "from sklearn.model_selection import cross_val_score, KFold\n",
    "kf = KFold(n_splits=6, shuffle=True, random_state=42)\n",
    "reg = LinearRegression()\n",
    "cv_results = cross_val_score(reg, X, y, cv=kf)"
   ]
  },
  {
   "cell_type": "markdown",
   "id": "7bf99c47-4d4f-41a1-925b-484bd22179bc",
   "metadata": {},
   "source": [
    "Evaluating cross-validation performance"
   ]
  },
  {
   "cell_type": "code",
   "execution_count": 80,
   "id": "f40d4381-4124-45ff-bcf9-1e69d86d208a",
   "metadata": {},
   "outputs": [
    {
     "name": "stdout",
     "output_type": "stream",
     "text": [
      "[0.99900913 0.99898729 0.99897163 0.99898887 0.99893043 0.99905966]\n",
      "0.9989911695584723 3.895599514495595e-05\n",
      "[0.99893558 0.99905335]\n"
     ]
    }
   ],
   "source": [
    "print(cv_results)\n",
    "print(np.mean(cv_results), np.std(cv_results))\n",
    "print(np.quantile(cv_results, [0.025, 0.975]))"
   ]
  },
  {
   "cell_type": "markdown",
   "id": "83cc566f-8773-4c88-9d61-b6ee1aa0ac21",
   "metadata": {},
   "source": [
    "### Exercise - Cross Validation for R-squared\n",
    "Cross-validation is a vital approach to evaluating a model. It maximizes the amount of data that is available to the model, as the model is not only trained but also tested on all of the available data.\r\n",
    "\r\n",
    "In this exercise, you will build a linear regression model, then use 6-fold cross-validation to assess its accuracy for predicting sales using social media advertising expenditure. You will display the individual score for each of the six-folds."
   ]
  },
  {
   "cell_type": "code",
   "execution_count": 85,
   "id": "96fd5a47-edd8-418b-b690-76bc7b191053",
   "metadata": {},
   "outputs": [],
   "source": [
    "# Create X and y array\n",
    "X = sales_df[['radio','social_media']].values\n",
    "y = sales_df['sales'].values"
   ]
  },
  {
   "cell_type": "code",
   "execution_count": 86,
   "id": "87107847-37f0-4f6b-ad59-d73fdd06dfbd",
   "metadata": {},
   "outputs": [
    {
     "name": "stdout",
     "output_type": "stream",
     "text": [
      "[0.74451678 0.77241887 0.76842114 0.7410406  0.75170022 0.74406484]\n"
     ]
    }
   ],
   "source": [
    "# Import the necessary modules\n",
    "from sklearn.linear_model import LinearRegression\n",
    "from sklearn.model_selection import cross_val_score, KFold\n",
    "\n",
    "# Create a KFold object\n",
    "kf = KFold(n_splits=6, shuffle=True, random_state=5)\n",
    "\n",
    "reg = LinearRegression()\n",
    "\n",
    "# Compute 6-fold cross-validation scores\n",
    "cv_scores = cross_val_score(reg, X, y, cv=kf)\n",
    "\n",
    "# Print scores\n",
    "print(cv_scores)"
   ]
  },
  {
   "cell_type": "markdown",
   "id": "66f81301-276b-4df8-bd2e-d96d4c6bda27",
   "metadata": {},
   "source": [
    "### Exercise - Analyzing cross-validation metrics\n",
    "Now you have performed cross-validation, it's time to analyze the results.\r\n",
    "\r\n",
    "You will display the mean, standard deviation, and 95% confidence interval for cv_results, which has been preloaded for you from the previous exercis.\n",
    "s."
   ]
  },
  {
   "cell_type": "code",
   "execution_count": 88,
   "id": "3e684755-28a0-463d-ad41-8dc31cbe9cf1",
   "metadata": {},
   "outputs": [
    {
     "name": "stdout",
     "output_type": "stream",
     "text": [
      "0.9989911695584723\n",
      "3.895599514495595e-05\n",
      "[0.99893558 0.99905335]\n"
     ]
    }
   ],
   "source": [
    "import numpy as np\n",
    "# Print the mean\n",
    "print(np.mean(cv_results))\n",
    "\n",
    "# Print the standard deviation\n",
    "print(cv_results.std())\n",
    "\n",
    "# Print the 95% confidence interval\n",
    "print(np.quantile(cv_results, [0.025, 0.975]))"
   ]
  },
  {
   "cell_type": "markdown",
   "id": "9b72abdf-fc3b-4d6e-a4f2-08422ba0af20",
   "metadata": {},
   "source": [
    "## Regularized Regression"
   ]
  },
  {
   "cell_type": "markdown",
   "id": "9d0b2a70-f29d-488a-80c3-c7bc6bba2d98",
   "metadata": {},
   "source": [
    "Ridge in scikit-learn"
   ]
  },
  {
   "cell_type": "code",
   "execution_count": 90,
   "id": "43778546-6cf1-414b-9712-3278e5b04a8b",
   "metadata": {},
   "outputs": [],
   "source": [
    "X = diabetes_df.drop(\"glucose\", axis=1).values\n",
    "y = diabetes_df[\"glucose\"].values\n",
    "\n",
    "X_train, X_test, y_train, y_test = train_test_split(X, y, test_size=0.3, random_state=12)"
   ]
  },
  {
   "cell_type": "code",
   "execution_count": 93,
   "id": "ef7f2432-43ea-4617-9d80-f829520f39a9",
   "metadata": {},
   "outputs": [
    {
     "name": "stdout",
     "output_type": "stream",
     "text": [
      "[0.3206256929133715, 0.3208695598264344, 0.32141804333867485, 0.2892647846260761, 0.2109609794448799]\n",
      "Performance get worse as alpha increases.\n"
     ]
    }
   ],
   "source": [
    "from sklearn.linear_model import Ridge\n",
    "scores = []\n",
    "for alpha in [0.1, 1.0, 10.0, 100.0, 1000.0]:\n",
    "    ridge = Ridge(alpha=alpha)\n",
    "    ridge.fit(X_train, y_train)\n",
    "    y_pred = ridge.predict(X_test)\n",
    "    scores.append(ridge.score(X_test, y_test))\n",
    "print(scores)\n",
    "\n",
    "print('Performance get worse as alpha increases.')"
   ]
  },
  {
   "cell_type": "markdown",
   "id": "a1301d6d-0b77-43d6-bf13-b9b8737c2199",
   "metadata": {},
   "source": [
    "Lasso in scikit-learn"
   ]
  },
  {
   "cell_type": "code",
   "execution_count": 94,
   "id": "08f0cca9-036f-4119-80fc-46c8195b5113",
   "metadata": {},
   "outputs": [
    {
     "name": "stdout",
     "output_type": "stream",
     "text": [
      "[0.321009964437741, 0.3249801634795382, 0.1836190263257632, 0.16860056295031767, 0.1332457055140216]\n"
     ]
    }
   ],
   "source": [
    "from sklearn.linear_model import Lasso\r\n",
    "scores = []\r\n",
    "\r\n",
    "for alpha in [0.01, 1.0, 10.0, 20.0, 50.0]:\r\n",
    "    lasso = Lasso(alpha=alpha)\r\n",
    "    lasso.fit(X_train, y_train)\r\n",
    "    lasso_pred = lasso.predict(X_test)\r\n",
    "    scores.append(lasso.score(X_test, y_test))\r\n",
    "    \r\n",
    "print(scores)"
   ]
  },
  {
   "cell_type": "code",
   "execution_count": 104,
   "id": "69b99e38-3f77-442d-8fe1-be3635150a2e",
   "metadata": {},
   "outputs": [
    {
     "data": {
      "image/png": "[encoded data removed]",
      "text/plain": [
       "<Figure size 400x200 with 1 Axes>"
      ]
     },
     "metadata": {},
     "output_type": "display_data"
    }
   ],
   "source": [
    "# Lasso for feature selection in scikit-learn\n",
    "from sklearn.linear_model import Lasso\n",
    "\n",
    "X = diabetes_df.drop(\"glucose\", axis=1).values\n",
    "y = diabetes_df[\"glucose\"].values\n",
    "names = diabetes_df.drop(\"glucose\", axis=1).columns\n",
    "\n",
    "lasso = Lasso(alpha=0.1)\n",
    "lasso_coef = lasso.fit(X, y).coef_\n",
    "\n",
    "plt.figure(figsize=(4,2))\n",
    "plt.bar(names, lasso_coef)\n",
    "plt.xticks(rotation=45)\n",
    "plt.show()"
   ]
  },
  {
   "cell_type": "markdown",
   "id": "d73581ac-95e7-4798-b11f-d4c88890ccd9",
   "metadata": {},
   "source": [
    "### Exercise - Regularized regression: Ridge\n",
    "Ridge regression performs regularization by computing the squared values of the model parameters multiplied by alpha and adding them to the loss function.\r\n",
    "\r\n",
    "In this exercise, you will fit ridge regression models over a range of different alpha values, and print their scores. You will use all of the features in the sales_df dataset to predict \"sales\". The data has been split into X_train, X_test, y_train, y_test for you.\r\n",
    "\r\n",
    "A variable called alphas has been provided as a list containing different alpha values, which you will loop through to generate scon of ridge."
   ]
  },
  {
   "cell_type": "code",
   "execution_count": 107,
   "id": "759baae8-2bc9-44e9-9b79-effcba913529",
   "metadata": {},
   "outputs": [
    {
     "name": "stdout",
     "output_type": "stream",
     "text": [
      "(3182, 3)\n"
     ]
    }
   ],
   "source": [
    "# Create X and y arrays\n",
    "X = sales_df.drop([\"sales\",\"Unnamed: 0\"], axis=1).values\n",
    "y = sales_df[\"sales\"].values\n",
    "\n",
    "X_train, X_test, y_train, y_test = train_test_split(X, y, test_size=0.3, random_state=42)\n",
    "\n",
    "print(X_train.shape)"
   ]
  },
  {
   "cell_type": "code",
   "execution_count": 108,
   "id": "f654dc2a-b6a0-4e15-9046-522a0bac12f9",
   "metadata": {},
   "outputs": [
    {
     "name": "stdout",
     "output_type": "stream",
     "text": [
      "[0.9990152104759369, 0.9990152104759373, 0.9990152104759419, 0.9990152104759871, 0.9990152104764387, 0.9990152104809561]\n"
     ]
    }
   ],
   "source": [
    "# Import Ridge\n",
    "from sklearn.linear_model import Ridge\n",
    "alphas = [0.1, 1.0, 10.0, 100.0, 1000.0, 10000.0]\n",
    "ridge_scores = []\n",
    "for alpha in alphas:\n",
    "  \n",
    "  # Create a Ridge regression model\n",
    "  ridge = Ridge(alpha=alpha)\n",
    "  \n",
    "  # Fit the data\n",
    "  ridge.fit(X_train, y_train)\n",
    "  \n",
    "  # Obtain R-squared\n",
    "  score = ridge.score(X_test, y_test)\n",
    "  ridge_scores.append(score)\n",
    "print(ridge_scores)"
   ]
  },
  {
   "cell_type": "markdown",
   "id": "a229298a-6eaa-4f74-97c6-8698583b0873",
   "metadata": {},
   "source": [
    "### Exercise - Lasso regression for feature importance"
   ]
  },
  {
   "cell_type": "code",
   "execution_count": 111,
   "id": "81ce31db-a8b8-4a01-902f-2f7ee2dcb3c8",
   "metadata": {},
   "outputs": [
    {
     "name": "stdout",
     "output_type": "stream",
     "text": [
      "[ 3.56256962 -0.00397035  0.00496385]\n"
     ]
    },
    {
     "data": {
      "image/png": "[encoded data removed]",
      "text/plain": [
       "<Figure size 500x200 with 1 Axes>"
      ]
     },
     "metadata": {},
     "output_type": "display_data"
    }
   ],
   "source": [
    "sales_columns = ['tv', 'radio', 'social_media'] \n",
    "# Import Lasso\n",
    "from sklearn.linear_model import Lasso\n",
    "\n",
    "# Instantiate a lasso regression model\n",
    "lasso = Lasso(alpha=0.3)\n",
    "\n",
    "# Fit the model to the data\n",
    "lasso.fit(X, y)\n",
    "\n",
    "# Compute and print the coefficients\n",
    "lasso_coef = lasso.coef_\n",
    "print(lasso_coef)\n",
    "plt.figure(figsize=(5,2))\n",
    "plt.bar(sales_columns, lasso_coef)\n",
    "plt.xticks(rotation=45)\n",
    "plt.show()"
   ]
  }
 ],
 "metadata": {
  "kernelspec": {
   "display_name": "Python 3 (ipykernel)",
   "language": "python",
   "name": "python3"
  },
  "language_info": {
   "codemirror_mode": {
    "name": "ipython",
    "version": 3
   },
   "file_extension": ".py",
   "mimetype": "text/x-python",
   "name": "python",
   "nbconvert_exporter": "python",
   "pygments_lexer": "ipython3",
   "version": "3.11.5"
  }
 },
 "nbformat": 4,
 "nbformat_minor": 5
}
