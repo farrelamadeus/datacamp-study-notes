{
 "cells": [
  {
   "cell_type": "markdown",
   "id": "46e568fc-3309-4cfd-b440-713006616124",
   "metadata": {},
   "source": [
    "## Unsupervised Learning in Python - Part 1\n",
    "> Part 1: Clustering for Dataset Exploration - KMeans\n",
    "## Unsupervised Learning\n",
    "Unsupervised Learning\n",
    "- Unsupervised learning finds patterns in data\n",
    "- E.g., clustering customers by their purchases\n",
    "- Compressing the data using purchase pattern (dimension reduction)\n",
    "\n",
    "Supervised vs Unsupervised Learning\n",
    "- Supervised learning finds pattern for prediction task\n",
    "- E.g., classify tumors as benign or cancerous (labels)\n",
    "- Unsupervised learning finds patterns in data\n",
    "- ... but without a specific prediction in mind\n"
   ]
  },
  {
   "cell_type": "markdown",
   "id": "ed0dc6c0-4fa4-4107-9929-32f3abc60866",
   "metadata": {},
   "source": [
    "k-means clustering\n",
    "- Finds clusters of samples\n",
    "- Number of clusters must be specified\n",
    "- Implemented in `sklearn` (\"scikit-learn\")"
   ]
  },
  {
   "cell_type": "markdown",
   "id": "761dd0af-d9ea-426d-bc9b-d850a99eb0b3",
   "metadata": {},
   "source": [
    "Cluster labels for new samples\n",
    "- New samples can be assigned to existing cluster\n",
    "- k-means remembers the mean of each cluster (the \"centroids\")\n",
    "- Find the nearest centroid to each new sample"
   ]
  },
  {
   "cell_type": "markdown",
   "id": "ddae0bb8-d41b-41ff-a745-f00256a70a52",
   "metadata": {},
   "source": [
    "## Evaluating a cluster\n",
    "Evaluating a cluster\n",
    "- Can check correspondence with\n",
    "- ... but what if there are no species to check against\n",
    "- Measure the quality of a clustering\n",
    "- Informs choice of how many cluster to look for\n",
    "\n",
    "Measuring clustering quality\n",
    "- Using only samples and their cluster labels\n",
    "- A good clustering has tight clusters\n",
    "- Samples in each cluster bunched together\n",
    "\n",
    "Inertia measures clustering quality\n",
    "- Measures how spread out the clusters are\n",
    "- Distance from each sample to centroid of its cluster\n",
    "- After `fit()` available as attribute `inertia_`\n",
    "- k-means attempts to minimize the inertia when choosing clusters"
   ]
  },
  {
   "cell_type": "markdown",
   "id": "171eacb5-9d30-471e-b7eb-fa35dc5b0dce",
   "metadata": {},
   "source": [
    "## Transforming features for better clusterings\n",
    "Features variances\n",
    "- Some features have very different variances\n",
    "- Variance of a feature measure spread of its values\n",
    "\n",
    "StandardScaler\n",
    "- in kmeans: feature variance = feature influence\n",
    "- `StandardScaler` transform each feature to have mean 0 and variance 1\n",
    "- Features are said to be \"standardized\"\n",
    "\n",
    "sklearn preprocessing steps\n",
    "- `StandardScaler` is a preprocessing step\n",
    "- `MaxAbsScaler` and `Normalizer` are other example"
   ]
  },
  {
   "cell_type": "raw",
   "id": "74748528-a710-44ab-9785-f4335c3959d0",
   "metadata": {},
   "source": [
    "from sklearn.preprocessing import StandardScaler\n",
    "scaler = StandardScaler()\n",
    "scaler.fit(samples)\n",
    "StandardScaler(copy=True, with_mean=True, with_std=True)\n",
    "samples_scaled = scaler.transform(samples)"
   ]
  }
 ],
 "metadata": {
  "kernelspec": {
   "display_name": "Python 3 (ipykernel)",
   "language": "python",
   "name": "python3"
  },
  "language_info": {
   "codemirror_mode": {
    "name": "ipython",
    "version": 3
   },
   "file_extension": ".py",
   "mimetype": "text/x-python",
   "name": "python",
   "nbconvert_exporter": "python",
   "pygments_lexer": "ipython3",
   "version": "3.11.5"
  }
 },
 "nbformat": 4,
 "nbformat_minor": 5
}
